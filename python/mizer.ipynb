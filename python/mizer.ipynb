{
 "cells": [
  {
   "cell_type": "code",
   "execution_count": null,
   "metadata": {
    "collapsed": false
   },
   "outputs": [],
   "source": [
    "# Import modules\n",
    "%pylab inline\n",
    "rc('animation', html='html5')\n",
    "import mizer"
   ]
  },
  {
   "cell_type": "code",
   "execution_count": null,
   "metadata": {
    "collapsed": false
   },
   "outputs": [],
   "source": [
    "# mizer parameters\n",
    "parameters = {\n",
    "  'w_min': 1e-3,\n",
    "  'w_inf': 1e6,\n",
    "  'nclass': 100,\n",
    "  'T_dependence': 1,\n",
    "  'T_ref': 13.,\n",
    "  'E_a': 0.63,\n",
    "  'beta': 100,\n",
    "  'sigma': 2.20,   # ln(10.)\n",
    "  'gamma': 64.,\n",
    "  'q': 0.82,\n",
    "  'alpha': 0.2,\n",
    "  'z0_type': 1,\n",
    "  'z0pre': 0.1,\n",
    "  'z0exp': -0.25,\n",
    "  'w_s': 1000.,\n",
    "  'z_s': 0.3,\n",
    "  'ks': 0.,\n",
    "  'SRR': 0,\n",
    "  'recruitment': 10000,\n",
    "  'h': 1e9,\n",
    "  'w_minF': 1.25, # Blanchard et al 2012\n",
    "  'F': 1.6\n",
    "}\n",
    "\n",
    "# Function for converting from Equivalent Spherical Diameter (micrometer) to wet mass in g\n",
    "def esd2mass(d): # d: equivalent spherical diameter in micrometer\n",
    "    V = 4./3.*pi*(numpy.array(d)/2e6)**3  # V: volume in m3\n",
    "    return V*1e6  # mass in g approximately equals volume in m3 multiplied by 1e6 (assumes density of 1000 kg/m3)\n",
    "\n",
    "# prey (currently from GOTM-ERSEM simulation)\n",
    "path = r'..\\..\\ssb-ersem-git\\testcases\\ersem_gotm\\L4\\fabm_ref.nc'\n",
    "scale_factor = 0.01 # 10 g wet mass/g carbon * 0.001 g C/mg C\n",
    "prey = (\n",
    "   mizer.Prey('diatoms', esd2mass((20,200)), mizer.datasources.TimeSeries(path, 'P1_c', z=-1, scale_factor=scale_factor)),\n",
    "   mizer.Prey('nanophy', esd2mass((2,20)), mizer.datasources.TimeSeries(path, 'P2_c', z=-1, scale_factor=scale_factor)),\n",
    "   mizer.Prey('picophy', esd2mass((.2,2)), mizer.datasources.TimeSeries(path, 'P3_c', z=-1, scale_factor=scale_factor)),\n",
    "   #mizer.Prey('microphy', esd2mass((20,200)), mizer.datasources.TimeSeries(path, 'P4_c', z=-1, scale_factor=scale_factor)),\n",
    "   mizer.Prey('microzoo', esd2mass((20,200)), mizer.datasources.TimeSeries(path, 'Z5_c', z=-1, scale_factor=scale_factor)),\n",
    "   mizer.Prey('nanoflag', esd2mass((2,20)), mizer.datasources.TimeSeries(path, 'Z6_c', z=-1, scale_factor=scale_factor)),\n",
    "   #mesozoo = mizer.Prey('mesozoo', 1e-4, mizer.datasources.TimeSeries(path, 'Z4_c', z=-1, scale_factor=scale_factor)),\n",
    ")\n",
    "prey_collection = mizer.PreyCollection(*prey)\n",
    "prey_collection = mizer.GriddedPreyCollection(prey_collection)\n",
    "\n",
    "# environment\n",
    "#temp = mizer.datasources.TimeSeries(path, 'temp', z=-1)\n",
    "temp = 15.\n",
    "\n",
    "# create mizer model\n",
    "m = mizer.Mizer(prey=prey_collection, parameters=parameters, temperature=temp)"
   ]
  },
  {
   "cell_type": "code",
   "execution_count": null,
   "metadata": {
    "collapsed": false
   },
   "outputs": [],
   "source": [
    "# Time-integrate\n",
    "times = numpy.arange(datestr2num('2002-01-01'), datestr2num('2010-01-01'))\n",
    "result = m.run(times, spinup=50, verbose=True, save_spinup=False)"
   ]
  },
  {
   "cell_type": "code",
   "execution_count": null,
   "metadata": {
    "collapsed": false
   },
   "outputs": [],
   "source": [
    "from ipywidgets import widgets\n",
    "def show_spectrum(day):\n",
    "    result.plot_spectrum(day, normalization=0, global_range=True)\n",
    "slider = widgets.interact(show_spectrum, day=(0, len(times)-1))"
   ]
  },
  {
   "cell_type": "code",
   "execution_count": null,
   "metadata": {
    "collapsed": false,
    "scrolled": true
   },
   "outputs": [],
   "source": [
    "result.plot_biomass_timeseries()\n",
    "result.plot_timeseries('landings')"
   ]
  },
  {
   "cell_type": "code",
   "execution_count": null,
   "metadata": {
    "collapsed": false,
    "scrolled": true
   },
   "outputs": [],
   "source": [
    "anim = result.animate_spectrum(normalization=0)"
   ]
  },
  {
   "cell_type": "code",
   "execution_count": null,
   "metadata": {
    "collapsed": false
   },
   "outputs": [],
   "source": [
    "anim"
   ]
  },
  {
   "cell_type": "code",
   "execution_count": null,
   "metadata": {
    "collapsed": true
   },
   "outputs": [],
   "source": []
  }
 ],
 "metadata": {
  "kernelspec": {
   "display_name": "Python 2",
   "language": "python",
   "name": "python2"
  },
  "language_info": {
   "codemirror_mode": {
    "name": "ipython",
    "version": 2
   },
   "file_extension": ".py",
   "mimetype": "text/x-python",
   "name": "python",
   "nbconvert_exporter": "python",
   "pygments_lexer": "ipython2",
   "version": "2.7.12"
  }
 },
 "nbformat": 4,
 "nbformat_minor": 0
}
